{
 "cells": [
  {
   "cell_type": "code",
   "execution_count": null,
   "metadata": {
    "collapsed": true
   },
   "outputs": [],
   "source": [
    "import pandas as pd\n",
    "import yfinance as yf\n",
    "import matplotlib.pyplot as plt\n",
    "from prophet import Prophet"
   ]
  },
  {
   "cell_type": "code",
   "execution_count": null,
   "outputs": [],
   "source": [
    "dados = yf.download(\"JNJ\",start='2020-01-01',end='2023-12-31',progress=False)\n",
    "dados = dados.reset_index()"
   ],
   "metadata": {
    "collapsed": false
   }
  },
  {
   "cell_type": "code",
   "execution_count": null,
   "outputs": [],
   "source": [
    "# Vamos dividir a nossa Base de Dados (treino -> ate o final do 1ª semestre de 2023) e etste (segundo semenstre de 2023)\n",
    "dados_treino = dados[dados['Date'] < '2023-07-31']\n",
    "dados_teste = dados[dados['Date'] >= '2023-07-31']"
   ],
   "metadata": {
    "collapsed": false
   }
  },
  {
   "cell_type": "code",
   "execution_count": null,
   "outputs": [],
   "source": [
    "# Preparando os Dados para o Prophet\n",
    "dados_prophet_treino = dados_treino[['Date','Close']].rename(columns={'Date': 'ds','Close':'y'})"
   ],
   "metadata": {
    "collapsed": false
   }
  },
  {
   "cell_type": "code",
   "execution_count": null,
   "outputs": [],
   "source": [
    "dados_prophet_treino"
   ],
   "metadata": {
    "collapsed": false
   }
  },
  {
   "cell_type": "code",
   "execution_count": null,
   "outputs": [],
   "source": [
    "# Criar e Treinar o modelo.\n",
    "modelo = Prophet(weekly_seasonality=True,yearly_seasonality=True,daily_seasonality=False)\n",
    "modelo.add_country_holidays(country_name='US')\n",
    "modelo.fit(dados_prophet_treino)"
   ],
   "metadata": {
    "collapsed": false
   }
  },
  {
   "cell_type": "code",
   "execution_count": null,
   "outputs": [],
   "source": [
    "# Criar datas futuras para previsao ate o final do ano de 2023\n",
    "futuro = modelo.make_future_dataframe(periods=150)\n",
    "previsao = modelo.predict(futuro)"
   ],
   "metadata": {
    "collapsed": false
   }
  },
  {
   "cell_type": "code",
   "execution_count": null,
   "outputs": [],
   "source": [
    "previsao.head(20)"
   ],
   "metadata": {
    "collapsed": false
   }
  },
  {
   "cell_type": "code",
   "execution_count": null,
   "outputs": [],
   "source": [
    " # Plotar os Dados de Teino e Teste e previsao.\n",
    "plt.figure(figsize=(14,8))\n",
    "plt.plot(dados_treino['Date'],dados_treino['Close'],label='Dados de Treino',color='blue')\n",
    "plt.plot(dados_teste['Date'],dados_teste['Close'],label='Dados Reais (Teste)',color='green')\n",
    "plt.plot(previsao['ds'],previsao['yhat'],label='Previsao',color='orange',linestyle='--')\n",
    "\n",
    "plt.axvline(dados_treino['Date'].max(),color='red',linestyle='--',label='Inicio da Previsao')\n",
    "plt.xlabel('Date')\n",
    "plt.ylabel('Preço de Fechamento')\n",
    "plt.title('Previsao de Preço de Fechamento vs Dados Reias')\n",
    "plt.legend()\n",
    "plt.show()"
   ],
   "metadata": {
    "collapsed": false
   }
  }
 ],
 "metadata": {
  "kernelspec": {
   "display_name": "Python 3",
   "language": "python",
   "name": "python3"
  },
  "language_info": {
   "codemirror_mode": {
    "name": "ipython",
    "version": 2
   },
   "file_extension": ".py",
   "mimetype": "text/x-python",
   "name": "python",
   "nbconvert_exporter": "python",
   "pygments_lexer": "ipython2",
   "version": "2.7.6"
  }
 },
 "nbformat": 4,
 "nbformat_minor": 0
}
