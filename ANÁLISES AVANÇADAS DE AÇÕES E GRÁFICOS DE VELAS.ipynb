{
 "cells": [
  {
   "cell_type": "code",
   "execution_count": null,
   "metadata": {
    "collapsed": true
   },
   "outputs": [],
   "source": [
    "# Importando as Bibliotecas.\n",
    "import pandas as pd\n",
    "import matplotlib.pyplot as plt\n",
    "import matplotlib.dates as mdates\n",
    "import mplfinance as mpf\n",
    "import yfinance as yf\n",
    "import plotly.graph_objects as go\n",
    "from plotly.subplots import  make_subplots"
   ]
  },
  {
   "cell_type": "code",
   "execution_count": null,
   "outputs": [],
   "source": [
    "dados = yf.download('PETR4.SA',start='2023-01-01',end='2023-12-31')\n",
    "display(dados)"
   ],
   "metadata": {
    "collapsed": false
   }
  },
  {
   "cell_type": "code",
   "execution_count": null,
   "outputs": [],
   "source": [
    "dados.columns=['Abertura','Maximo','Minimo','Fechamento','Fech_Ajust','Volume']\n",
    "dados"
   ],
   "metadata": {
    "collapsed": false
   }
  },
  {
   "cell_type": "code",
   "execution_count": null,
   "outputs": [],
   "source": [
    "dados.rename_axis('Data')"
   ],
   "metadata": {
    "collapsed": false
   }
  },
  {
   "cell_type": "code",
   "execution_count": null,
   "outputs": [],
   "source": [
    "dados['Fechamento'].plot(figsize=(10,6))\n",
    "plt.title('Variacao de Precos por Data',fontsize=16)\n",
    "plt.legend(['Fechamento'])"
   ],
   "metadata": {
    "collapsed": false
   }
  },
  {
   "cell_type": "code",
   "execution_count": null,
   "outputs": [],
   "source": [
    "df = dados.head(60).copy()\n",
    "# Convertendo o Indice em uma Coluna de Data\n",
    "df['Data'] = df.index\n",
    "# Convertendo a data para o formata do Matplotlib.\n",
    "df['Data'] = df['Data'].apply(mdates.date2num)\n",
    "df"
   ],
   "metadata": {
    "collapsed": false
   }
  },
  {
   "cell_type": "code",
   "execution_count": null,
   "outputs": [],
   "source": [
    "fig,ax = plt.subplots(figsize=(15,8))\n",
    "# Vamos definir a largura dos Candles no Grafico.\n",
    "width= 0.7\n",
    "for i in range(len(df)):\n",
    "    # Determina a cor do Candles\n",
    "    # Se oPreco do Fechamento for maior que o da Abertura, o candles e verde ( a açao valorizou nesse dia)\n",
    "    # Se for Menor, o candles e vermelho ( a açao desvalorizou)\n",
    "    if df['Fechamento'].iloc[i] > df['Abertura'].iloc[i]:\n",
    "        color = 'green'\n",
    "    else:\n",
    "        color = 'red'\n",
    "    # Desenhando a linha vertical do candles (mecha)\n",
    "    # Essa linha mostra os preços maximo (topo da linha) e minimo (base da linha) do dia.\n",
    "    # Usamos 'ax.plot' para desenhar uma linha vertical.\n",
    "    # [df['Data'].iloc[i],df['Data'].iloc[i]] - > Define o ponto x da linha ( a Data), e [df['Minimo'].iloc[i],df['Maximo'].iloc[i]],color=color,linewidth=1)\n",
    "    ax.plot([df['Data'].iloc[i],df['Data'].iloc[i]],[df['Minimo'].iloc[i],df['Maximo'].iloc[i]],color=color,linewidth=1)\n",
    "    ax.add_patch(plt.Rectangle((df['Data'].iloc[i] - width/2,min(df['Abertura'].iloc[i],df['Fechamento'].iloc[i])),width,abs(df['Fechamento'].iloc[i] - df['Abertura'].iloc[i]),facecolor=color))\n",
    "df['MA7'] = df['Fechamento'].rolling(window=7).mean()\n",
    "df['MA14'] = df['Fechamento'].rolling(window=14).mean()\n",
    "# Plotando as Medias Moveis\n",
    "ax.plot(df['Data'],df['MA7'],color='orange',label='Media  Movel 7 Dias') # Media de 7 dias.\n",
    "ax.plot(df['Data'],df['MA14'],color='yellow',label='Media Movel 14 Dias') # Medias de 14 dias.\n",
    "# Adicionando Legendas paar as Medias Moveis.\n",
    "ax.legend()\n",
    "# Formatando o eixo x para mostrar as datas.\n",
    "# Configurando o formato da data e a rotaçao para melhor legibilidade.\n",
    "ax.xaxis_date() # O Metodo xaxis_date() e usado paar dizer ao Matplotlib que as datas estao sendo usadas no eixo x.\n",
    "ax.xaxis.set_major_formatter(mdates.DateFormatter('%Y-%m-%d'))\n",
    "plt.xticks(rotation=45)\n",
    "# Adicionando Titulos e Rotulos.\n",
    "plt.title('Grafico de Candlestick - PETRA.SA')\n",
    "plt.xlabel('Data')\n",
    "plt.ylabel('Preço')\n",
    "\n",
    "# Adicionando uma Grade para Facilitar a Visualizaçao.\n",
    "plt.grid(True)\n",
    "# Exibindo o Grafico.\n",
    "plt.show()"
   ],
   "metadata": {
    "collapsed": false
   }
  },
  {
   "cell_type": "code",
   "execution_count": null,
   "outputs": [],
   "source": [
    "# Criando os Subplots.\n",
    "\"\"\" Primeiro , criamos uma figura que contera nossos graficos usando make_subplts, Isso nos permite ter multiplos graficos em uma unica visualizaçao.\n",
    "Aqui, teremos dois subplots: um para o grafico de Candlestick e outro para o volule de transaçoes.\n",
    "\"\"\"\n",
    "fig = make_subplots(rows=2,cols=1,shared_xaxes=True,vertical_spacing=0.1,subplot_titles=('Canclesticks','Volume Transacionado'),row_width=[0.2,0.7])\n",
    "\n",
    "\"\"\"\n",
    "No grafico de candlestick, cada candle representa um dia de negociaçao, mostrando o preço de abertura , fechamento maximo e minimo. Vamos dicionar este grafico a nossa figura.\n",
    "\"\"\"\n",
    "# Adicionando o Grafico de Candlestick.\n",
    "fig.add_trace(go.Candlestick(x=df.index,open=df['Abertura'],high=df['Maximo'],low=df['Minimo'],close=df['Fechamento'],name='Candlestick'),row=1,col=1)\n",
    "# Adicionando as Medias Moveis.\n",
    "# Adicionando tambem medias moveis ao mesmo subplot para analise de tendencias.\n",
    "fig.add_trace(go.Scatter(x=df.index,y=df['MA7'],mode='lines',name='MA7 - Medias Movel 7 dias'),row=1,col=1)\n",
    "fig.add_trace(go.Scatter(x=df.index,y=df['MA14'],mode='lines',name='MA14 - Media Movel 14 dias'),row=1,col=1)\n",
    "# Adicionando o grafico de barras para volume.\n",
    "# Em seguida, criamos um grafico de barras para o volume de transaçoes ,que nos da uma boa ideia de atividade de negociaçao  naquele dia.\n",
    "fig.update_layout(yaxis_title='Preço',xaxis_rangeslider_visible=False, width=1100,height=600)\n",
    "fig.show()"
   ],
   "metadata": {
    "collapsed": false
   }
  },
  {
   "cell_type": "code",
   "execution_count": null,
   "outputs": [],
   "source": [
    "dados = yf.download('PETR4.SA',start='2023-01-01',end='2023-12-31')"
   ],
   "metadata": {
    "collapsed": false
   }
  },
  {
   "cell_type": "code",
   "execution_count": null,
   "outputs": [],
   "source": [
    "mpf.plot(dados.head(30),type='candle',figsize=(16,8),volume=True,mav=(7,14),style='yahoo')"
   ],
   "metadata": {
    "collapsed": false
   }
  },
  {
   "cell_type": "code",
   "execution_count": null,
   "outputs": [],
   "source": [],
   "metadata": {
    "collapsed": false
   }
  }
 ],
 "metadata": {
  "kernelspec": {
   "display_name": "Python 3",
   "language": "python",
   "name": "python3"
  },
  "language_info": {
   "codemirror_mode": {
    "name": "ipython",
    "version": 2
   },
   "file_extension": ".py",
   "mimetype": "text/x-python",
   "name": "python",
   "nbconvert_exporter": "python",
   "pygments_lexer": "ipython2",
   "version": "2.7.6"
  }
 },
 "nbformat": 4,
 "nbformat_minor": 0
}
